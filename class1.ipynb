{
  "nbformat": 4,
  "nbformat_minor": 0,
  "metadata": {
    "colab": {
      "name": "class1.ipynb",
      "provenance": [],
      "authorship_tag": "ABX9TyMxt7auf+xCR6/g0xiSWYnn",
      "include_colab_link": true
    },
    "kernelspec": {
      "name": "python3",
      "display_name": "Python 3"
    },
    "language_info": {
      "name": "python"
    }
  },
  "cells": [
    {
      "cell_type": "markdown",
      "metadata": {
        "id": "view-in-github",
        "colab_type": "text"
      },
      "source": [
        "<a href=\"https://colab.research.google.com/github/arun-84/sample/blob/master/class1.ipynb\" target=\"_parent\"><img src=\"https://colab.research.google.com/assets/colab-badge.svg\" alt=\"Open In Colab\"/></a>"
      ]
    },
    {
      "cell_type": "code",
      "metadata": {
        "id": "DEer_-NTnK3s"
      },
      "source": [
        "import tensorflow.compat.v1 as tf\n",
        "tf.disable_v2_behavior()\n",
        "node1=tf.constant(5.0,tf.float32)\n",
        "node2=tf.constant(4.0,tf.float32)\n",
        "print(node1,node2)\n",
        "with tf.Session() as sess:\n",
        "  print(sess.run(node1))\n",
        "firstNode=tf.constant(\"hello\")\n",
        "secondNode=tf.constant(\"world\")\n",
        "with tf.Session() as sess:\n",
        "  print(sess.run(firstNode+ secondNode))\n",
        "firstMatrix=tf.constant([[1,2],[3,4]])\n",
        "secondMatrix=tf.constant([[1,2],[3,4]])\n",
        "with tf.Session() as sess:\n",
        "  print(sess.run(firstMatrix*secondMatrix)) \n",
        "a=firstMatrix.get_shape()\n",
        "print(a)\n",
        "with tf.Session() as sess:\n",
        "  print(sess.run(tf.matmul(firstMatrix,secondMatrix)))\n",
        "fillMatrix=tf.fill((4,4),10)\n",
        "myZeroMatrix=tf.zeros((4,4))\n",
        "myOnesMatrix=tf.ones((4,4))\n",
        "myrandN=tf.random_normal((4,4),mean=0,stddev=1.0)\n",
        "myrandU=tf.random_uniform((4,4),minval=0,maxval=1.0)\n",
        "ops=[fillMatrix,myZeroMatrix,myOnesMatrix, myrandN,myrandU]\n",
        "sess=tf.InteractiveSession()\n",
        "for op in ops:\n",
        "  print(op.eval())\n",
        "  print('\\n')"
      ],
      "execution_count": null,
      "outputs": []
    },
    {
      "cell_type": "code",
      "metadata": {
        "colab": {
          "base_uri": "https://localhost:8080/"
        },
        "id": "_NxGa3WT7Ken",
        "outputId": "a508f64a-4fc9-4b5f-b48a-e9f10d0998cb"
      },
      "source": [
        "sess=tf.InteractiveSession()\n",
        "myTensor=tf.random_uniform((4,4),0,1)\n",
        "myVariable=tf.Variable(initial_value=myTensor)\n",
        "init=tf.global_variables_initializer()\n",
        "sess.run(init)\n",
        "sess.run(myVariable)\n",
        "myPlaceHolder=tf.placeholder(tf.float32,shape=(None,3)"
      ],
      "execution_count": 24,
      "outputs": [
        {
          "output_type": "stream",
          "text": [
            "/usr/local/lib/python3.7/dist-packages/tensorflow/python/client/session.py:1761: UserWarning: An interactive session is already active. This can cause out-of-memory errors in some cases. You must explicitly call `InteractiveSession.close()` to release resources held by the other session(s).\n",
            "  warnings.warn('An interactive session is already active. This can '\n"
          ],
          "name": "stderr"
        },
        {
          "output_type": "execute_result",
          "data": {
            "text/plain": [
              "array([[0.173424  , 0.657729  , 0.52666473, 0.11011457],\n",
              "       [0.03683746, 0.4020728 , 0.79501104, 0.5290059 ],\n",
              "       [0.81627107, 0.15515673, 0.42469227, 0.6202289 ],\n",
              "       [0.5417396 , 0.6901554 , 0.83346367, 0.6282165 ]], dtype=float32)"
            ]
          },
          "metadata": {
            "tags": []
          },
          "execution_count": 24
        }
      ]
    }
  ]
}