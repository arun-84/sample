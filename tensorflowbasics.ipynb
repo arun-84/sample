{
  "nbformat": 4,
  "nbformat_minor": 0,
  "metadata": {
    "colab": {
      "name": "tensorflowbasics.ipynb",
      "provenance": [],
      "collapsed_sections": [],
      "authorship_tag": "ABX9TyPr32jeLl6j1svxwV+QT8KH",
      "include_colab_link": true
    },
    "kernelspec": {
      "name": "python3",
      "display_name": "Python 3"
    },
    "language_info": {
      "name": "python"
    },
    "accelerator": "GPU"
  },
  "cells": [
    {
      "cell_type": "markdown",
      "metadata": {
        "id": "view-in-github",
        "colab_type": "text"
      },
      "source": [
        "<a href=\"https://colab.research.google.com/github/arun-84/sample/blob/master/tensorflowbasics.ipynb\" target=\"_parent\"><img src=\"https://colab.research.google.com/assets/colab-badge.svg\" alt=\"Open In Colab\"/></a>"
      ]
    },
    {
      "cell_type": "code",
      "metadata": {
        "colab": {
          "base_uri": "https://localhost:8080/"
        },
        "id": "PntdjAum86bQ",
        "outputId": "c2ddaa31-8065-423e-d72e-5931eecf1355"
      },
      "source": [
        "import tensorflow.compat.v1 as tf\n",
        "tf.disable_v2_behavior()\n",
        "hello=tf.constant(\"hello\")\n",
        "world=tf.constant(\"world\")\n",
        "sess=tf.Session()\n",
        "print(sess.run(hello+world))\n",
        "sess.close()\n",
        "with tf.Session() as sess:\n",
        "  print(sess.run(hello+world))\n",
        "a=tf.constant(30)\n",
        "b=tf.constant(20)\n",
        "with tf.Session() as sess:\n",
        "  print (sess.run(a+b))\n",
        "fill_mat=tf.fill((4,4),10)\n",
        "myzeroMatrix=tf.zeros((4,4))\n",
        "myonesMatrix=tf.zeros((4,4))\n",
        "myrandNormal=tf.random_normal((4,4),mean=0,stddev=1)\n",
        "myrandUniform=tf.random_uniform((4,4),minval=0,maxval=1)\n",
        "ops=[fill_mat,myzeroMatrix,myonesMatrix,myrandNormal,myrandUniform]\n",
        "sess=tf.InteractiveSession()\n",
        "for op in ops:\n",
        "  print(sess.run(op))\n",
        "  print('\\n')"
      ],
      "execution_count": 13,
      "outputs": [
        {
          "output_type": "stream",
          "text": [
            "b'helloworld'\n",
            "b'helloworld'\n",
            "50\n",
            "[[10 10 10 10]\n",
            " [10 10 10 10]\n",
            " [10 10 10 10]\n",
            " [10 10 10 10]]\n",
            "\n",
            "\n",
            "[[0. 0. 0. 0.]\n",
            " [0. 0. 0. 0.]\n",
            " [0. 0. 0. 0.]\n",
            " [0. 0. 0. 0.]]\n",
            "\n",
            "\n",
            "[[0. 0. 0. 0.]\n",
            " [0. 0. 0. 0.]\n",
            " [0. 0. 0. 0.]\n",
            " [0. 0. 0. 0.]]\n",
            "\n",
            "\n",
            "[[-0.50741696 -1.306248    1.4086671   1.2783431 ]\n",
            " [ 1.0039356   1.2680905  -0.601396    0.13804401]\n",
            " [-1.2135493  -0.8563051   0.4771601  -0.19518104]\n",
            " [-0.04214834  1.8539706   0.10735975 -1.2370887 ]]\n",
            "\n",
            "\n",
            "[[0.17563069 0.06318069 0.15640211 0.95970285]\n",
            " [0.49656057 0.309842   0.7014389  0.6456535 ]\n",
            " [0.301394   0.43733037 0.70713925 0.09604895]\n",
            " [0.31921554 0.92938125 0.19007218 0.782593  ]]\n",
            "\n",
            "\n"
          ],
          "name": "stdout"
        },
        {
          "output_type": "stream",
          "text": [
            "/usr/local/lib/python3.7/dist-packages/tensorflow/python/client/session.py:1761: UserWarning: An interactive session is already active. This can cause out-of-memory errors in some cases. You must explicitly call `InteractiveSession.close()` to release resources held by the other session(s).\n",
            "  warnings.warn('An interactive session is already active. This can '\n"
          ],
          "name": "stderr"
        }
      ]
    },
    {
      "cell_type": "code",
      "metadata": {
        "colab": {
          "base_uri": "https://localhost:8080/"
        },
        "id": "aRb4dpDF-1g2",
        "outputId": "12f6f9a0-9a79-4f80-ffff-09e8709a713c"
      },
      "source": [
        "a+b\n"
      ],
      "execution_count": 9,
      "outputs": [
        {
          "output_type": "execute_result",
          "data": {
            "text/plain": [
              "<tf.Tensor 'add_7:0' shape=() dtype=int32>"
            ]
          },
          "metadata": {
            "tags": []
          },
          "execution_count": 9
        }
      ]
    }
  ]
}