{
  "nbformat": 4,
  "nbformat_minor": 0,
  "metadata": {
    "colab": {
      "name": "class1.ipynb",
      "provenance": [],
      "authorship_tag": "ABX9TyMS/5BHOynUWa4vNIyiP6jO",
      "include_colab_link": true
    },
    "kernelspec": {
      "name": "python3",
      "display_name": "Python 3"
    },
    "language_info": {
      "name": "python"
    }
  },
  "cells": [
    {
      "cell_type": "markdown",
      "metadata": {
        "id": "view-in-github",
        "colab_type": "text"
      },
      "source": [
        "<a href=\"https://colab.research.google.com/github/arun-84/sample/blob/master/class1.ipynb\" target=\"_parent\"><img src=\"https://colab.research.google.com/assets/colab-badge.svg\" alt=\"Open In Colab\"/></a>"
      ]
    },
    {
      "cell_type": "code",
      "metadata": {
        "id": "DEer_-NTnK3s"
      },
      "source": [
        "import tensorflow.compat.v1 as tf\n",
        "tf.disable_v2_behavior()\n",
        "node1=tf.constant(5.0,tf.float32)\n",
        "node2=tf.constant(4.0,tf.float32)\n",
        "print(node1,node2)\n",
        "with tf.Session() as sess:\n",
        "  print(sess.run(node1))\n",
        "firstNode=tf.constant(\"hello\")\n",
        "secondNode=tf.constant(\"world\")\n",
        "with tf.Session() as sess:\n",
        "  print(sess.run(firstNode+ secondNode))\n",
        "firstMatrix=tf.constant([[1,2],[3,4]])\n",
        "secondMatrix=tf.constant([[1,2],[3,4]])\n",
        "with tf.Session() as sess:\n",
        "  print(sess.run(firstMatrix*secondMatrix)) \n",
        "a=firstMatrix.get_shape()\n",
        "print(a)\n",
        "with tf.Session() as sess:\n",
        "  print(sess.run(tf.matmul(firstMatrix,secondMatrix)))\n",
        "fillMatrix=tf.fill((4,4),10)\n",
        "myZeroMatrix=tf.zeros((4,4))\n",
        "myOnesMatrix=tf.ones((4,4))\n",
        "myrandN=tf.random_normal((4,4),mean=0,stddev=1.0)\n",
        "myrandU=tf.random_uniform((4,4),minval=0,maxval=1.0)\n",
        "ops=[fillMatrix,myZeroMatrix,myOnesMatrix, myrandN,myrandU]\n",
        "sess=tf.InteractiveSession()\n",
        "for op in ops:\n",
        "  print(op.eval())\n",
        "  print('\\n')"
      ],
      "execution_count": null,
      "outputs": []
    },
    {
      "cell_type": "code",
      "metadata": {
        "id": "_NxGa3WT7Ken"
      },
      "source": [
        "sess=tf.InteractiveSession()\n",
        "myTensor=tf.random_uniform((4,4),0,1)\n",
        "myVariable=tf.Variable(initial_value=myTensor)\n",
        "init=tf.global_variables_initializer()\n",
        "sess.run(init)\n",
        "sess.run(myVariable)\n",
        "myPlaceHolder=tf.placeholder(tf.float32,shape=(None,3))"
      ],
      "execution_count": null,
      "outputs": []
    },
    {
      "cell_type": "code",
      "metadata": {
        "id": "EWDfJZvHXmq9"
      },
      "source": [
        "import numpy as np\n",
        "a=tf.placeholder(tf.float32)\n",
        "b=tf.placeholder(tf.float32)\n",
        "addOperation=a+b\n",
        "mulOperation=a*b\n",
        "result=sess.run(addOperation,feed_dict={a:10,b:20})\n",
        "print (result)"
      ],
      "execution_count": null,
      "outputs": []
    },
    {
      "cell_type": "code",
      "metadata": {
        "id": "cFNo6KPVlP6s"
      },
      "source": [
        "nFeatures=10\n",
        "nDenseNeurons=1\n",
        "x=tf.placeholder(tf.float32,(None,nFeatures))\n",
        "w=tf.Variable(tf.random_normal([nFeatures,nDenseNeurons]))\n",
        "b=tf.Variable(tf.ones([nDenseNeurons]))\n",
        "xw=tf.matmul(x,w)\n",
        "output=tf.add(xw,b)\n",
        "finalResult=tf.sigmoid(output)\n",
        "init=tf.global_variables_initializer()\n",
        "with tf.Session() as sess:\n",
        "  sess.run(init)\n",
        "  layerOutput=sess.run(finalResult,feed_dict={x:np.random.random([1,nFeatures])})\n",
        "\n"
      ],
      "execution_count": 9,
      "outputs": []
    },
    {
      "cell_type": "code",
      "metadata": {
        "colab": {
          "base_uri": "https://localhost:8080/"
        },
        "id": "fpxLoKqNnWvr",
        "outputId": "0777e845-6679-44bb-fd4c-d99df615fad4"
      },
      "source": [
        "print(layerOutput)"
      ],
      "execution_count": 10,
      "outputs": [
        {
          "output_type": "stream",
          "text": [
            "[[0.95045906]]\n"
          ],
          "name": "stdout"
        }
      ]
    }
  ]
}