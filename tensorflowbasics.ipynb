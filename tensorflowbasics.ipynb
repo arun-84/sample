{
  "nbformat": 4,
  "nbformat_minor": 0,
  "metadata": {
    "colab": {
      "name": "tensorflowbasics.ipynb",
      "provenance": [],
      "collapsed_sections": [],
      "authorship_tag": "ABX9TyNa8o8IJ8m5stgyJ5WHXNU1",
      "include_colab_link": true
    },
    "kernelspec": {
      "name": "python3",
      "display_name": "Python 3"
    },
    "language_info": {
      "name": "python"
    },
    "accelerator": "GPU"
  },
  "cells": [
    {
      "cell_type": "markdown",
      "metadata": {
        "id": "view-in-github",
        "colab_type": "text"
      },
      "source": [
        "<a href=\"https://colab.research.google.com/github/arun-84/sample/blob/master/tensorflowbasics.ipynb\" target=\"_parent\"><img src=\"https://colab.research.google.com/assets/colab-badge.svg\" alt=\"Open In Colab\"/></a>"
      ]
    },
    {
      "cell_type": "code",
      "metadata": {
        "colab": {
          "base_uri": "https://localhost:8080/"
        },
        "id": "PntdjAum86bQ",
        "outputId": "4176ba7f-9916-41f6-8c3b-a9d26cab53ed"
      },
      "source": [
        "import tensorflow.compat.v1 as tf\n",
        "tf.disable_v2_behavior()\n",
        "hello=tf.constant(\"hello\")\n",
        "world=tf.constant(\"world\")\n",
        "sess=tf.Session()\n",
        "print(sess.run(hello+world))\n",
        "sess.close()\n",
        "with tf.Session() as sess:\n",
        "  print(sess.run(hello+world))\n",
        "a=tf.constant(30)\n",
        "b=tf.constant(20)\n",
        "with tf.Session() as sess:\n",
        "  print (sess.run(a+b))\n",
        "fill_mat=tf.fill((4,4),10)\n",
        "myzeroMatrix=tf.zeros((4,4))\n",
        "myonesMatrix=tf.zeros((4,4))\n",
        "myrandNormal=tf.random_normal((4,4),mean=0,stddev=1)\n",
        "myrandUniform=tf.random_uniform((4,4),minval=0,maxval=1)\n",
        "ops=[fill_mat,myzeroMatrix,myonesMatrix,myrandNormal,myrandUniform]\n",
        "sess=tf.InteractiveSession()\n",
        "for op in ops:\n",
        "  print(sess.run(op))\n",
        "  print('\\n')\n",
        "\n",
        "firstMatrix=tf.constant([[1,2],[3,4]])\n",
        "firstMatrix.get_shape()\n",
        "secondMatrix=tf.constant([[10],[2]])\n",
        "result=tf.matmul(firstMatrix,secondMatrix)\n",
        "sess.run(result)\n"
      ],
      "execution_count": 17,
      "outputs": [
        {
          "output_type": "stream",
          "text": [
            "b'helloworld'\n",
            "b'helloworld'\n",
            "50\n",
            "[[10 10 10 10]\n",
            " [10 10 10 10]\n",
            " [10 10 10 10]\n",
            " [10 10 10 10]]\n",
            "\n",
            "\n",
            "[[0. 0. 0. 0.]\n",
            " [0. 0. 0. 0.]\n",
            " [0. 0. 0. 0.]\n",
            " [0. 0. 0. 0.]]\n",
            "\n",
            "\n",
            "[[0. 0. 0. 0.]\n",
            " [0. 0. 0. 0.]\n",
            " [0. 0. 0. 0.]\n",
            " [0. 0. 0. 0.]]\n",
            "\n",
            "\n",
            "[[-1.3670233   1.6530567   0.75166494 -0.01219022]\n",
            " [ 0.7447083   0.25929835 -0.5472847  -1.3153809 ]\n",
            " [ 0.5006023  -1.0765946   1.5253875   0.87453353]\n",
            " [ 0.34863362  0.21888521 -0.87007403  0.18255438]]\n",
            "\n",
            "\n",
            "[[0.19414616 0.9112159  0.69884896 0.14967668]\n",
            " [0.87558734 0.48462558 0.69098806 0.19500864]\n",
            " [0.45281434 0.18554497 0.7020359  0.54706955]\n",
            " [0.978204   0.5942514  0.7225158  0.4646697 ]]\n",
            "\n",
            "\n"
          ],
          "name": "stdout"
        },
        {
          "output_type": "stream",
          "text": [
            "/usr/local/lib/python3.7/dist-packages/tensorflow/python/client/session.py:1761: UserWarning: An interactive session is already active. This can cause out-of-memory errors in some cases. You must explicitly call `InteractiveSession.close()` to release resources held by the other session(s).\n",
            "  warnings.warn('An interactive session is already active. This can '\n"
          ],
          "name": "stderr"
        },
        {
          "output_type": "execute_result",
          "data": {
            "text/plain": [
              "array([[14],\n",
              "       [38]], dtype=int32)"
            ]
          },
          "metadata": {
            "tags": []
          },
          "execution_count": 17
        }
      ]
    },
    {
      "cell_type": "code",
      "metadata": {
        "colab": {
          "base_uri": "https://localhost:8080/"
        },
        "id": "aRb4dpDF-1g2",
        "outputId": "12f6f9a0-9a79-4f80-ffff-09e8709a713c"
      },
      "source": [
        "a+b\n"
      ],
      "execution_count": null,
      "outputs": [
        {
          "output_type": "execute_result",
          "data": {
            "text/plain": [
              "<tf.Tensor 'add_7:0' shape=() dtype=int32>"
            ]
          },
          "metadata": {
            "tags": []
          },
          "execution_count": 9
        }
      ]
    }
  ]
}