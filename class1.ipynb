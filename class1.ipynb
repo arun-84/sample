{
  "nbformat": 4,
  "nbformat_minor": 0,
  "metadata": {
    "colab": {
      "name": "class1.ipynb",
      "provenance": [],
      "authorship_tag": "ABX9TyPypFAiGhWxMAGJRo6BHTD4",
      "include_colab_link": true
    },
    "kernelspec": {
      "name": "python3",
      "display_name": "Python 3"
    },
    "language_info": {
      "name": "python"
    }
  },
  "cells": [
    {
      "cell_type": "markdown",
      "metadata": {
        "id": "view-in-github",
        "colab_type": "text"
      },
      "source": [
        "<a href=\"https://colab.research.google.com/github/arun-84/sample/blob/master/class1.ipynb\" target=\"_parent\"><img src=\"https://colab.research.google.com/assets/colab-badge.svg\" alt=\"Open In Colab\"/></a>"
      ]
    },
    {
      "cell_type": "code",
      "metadata": {
        "colab": {
          "base_uri": "https://localhost:8080/"
        },
        "id": "DEer_-NTnK3s",
        "outputId": "2a5a43b4-c106-42cb-e3fe-8574dce3d31c"
      },
      "source": [
        "import tensorflow.compat.v1 as tf\n",
        "tf.disable_v2_behavior()\n",
        "node1=tf.constant(5.0,tf.float32)\n",
        "node2=tf.constant(4.0,tf.float32)\n",
        "print(node1,node2)\n",
        "with tf.Session() as sess:\n",
        "  print(sess.run(node1))\n",
        "firstNode=tf.constant(\"hello\")\n",
        "secondNode=tf.constant(\"world\")\n",
        "with tf.Session() as sess:\n",
        "  print(sess.run(firstNode+ secondNode))\n",
        "firstMatrix=tf.constant([[1,2],[3,4]])\n",
        "secondMatrix=tf.constant([[1,2],[3,4]])\n",
        "with tf.Session() as sess:\n",
        "  print(sess.run(firstMatrix*secondMatrix)) \n",
        "a=firstMatrix.get_shape()\n",
        "print(a)\n",
        "with tf.Session() as sess:\n",
        "  print(sess.run(tf.matmul(firstMatrix,secondMatrix)))\n",
        "fillMatrix=tf.fill((4,4),10)\n",
        "myZeroMatrix=tf.zeros((4,4))\n",
        "myOnesMatrix=tf.ones((4,4))\n",
        "myrandN=tf.random_normal((4,4),mean=0,stddev=1.0)\n",
        "myrandU=tf.random_uniform((4,4),minval=0,maxval=1.0)\n",
        "ops=[fillMatrix,myZeroMatrix,myOnesMatrix, myrandN,myrandU]\n",
        "sess=tf.InteractiveSession()\n",
        "for op in ops:\n",
        "  print(op.eval())\n",
        "  print('\\n')"
      ],
      "execution_count": 23,
      "outputs": [
        {
          "output_type": "stream",
          "text": [
            "Tensor(\"Const_75:0\", shape=(), dtype=float32) Tensor(\"Const_76:0\", shape=(), dtype=float32)\n",
            "5.0\n",
            "b'helloworld'\n",
            "[[ 1  4]\n",
            " [ 9 16]]\n",
            "(2, 2)\n",
            "[[ 7 10]\n",
            " [15 22]]\n",
            "[[10 10 10 10]\n",
            " [10 10 10 10]\n",
            " [10 10 10 10]\n",
            " [10 10 10 10]]\n",
            "\n",
            "\n",
            "[[0. 0. 0. 0.]\n",
            " [0. 0. 0. 0.]\n",
            " [0. 0. 0. 0.]\n",
            " [0. 0. 0. 0.]]\n",
            "\n",
            "\n",
            "[[1. 1. 1. 1.]\n",
            " [1. 1. 1. 1.]\n",
            " [1. 1. 1. 1.]\n",
            " [1. 1. 1. 1.]]\n",
            "\n",
            "\n",
            "[[-0.8207956  -1.4257153   0.73471767 -0.06226844]\n",
            " [ 0.8443487  -0.49526322  0.4901379  -0.60374635]\n",
            " [-0.2194347   0.21501121 -1.4145557  -0.68505913]\n",
            " [-0.18295336  2.4042027   0.7197361  -0.4887133 ]]\n",
            "\n",
            "\n",
            "[[0.51969695 0.5463486  0.78168905 0.76685464]\n",
            " [0.9870875  0.66081846 0.64211726 0.28485835]\n",
            " [0.20795405 0.6551423  0.37610173 0.7726058 ]\n",
            " [0.42760563 0.63445807 0.9985446  0.03458536]]\n",
            "\n",
            "\n"
          ],
          "name": "stdout"
        },
        {
          "output_type": "stream",
          "text": [
            "/usr/local/lib/python3.7/dist-packages/tensorflow/python/client/session.py:1761: UserWarning: An interactive session is already active. This can cause out-of-memory errors in some cases. You must explicitly call `InteractiveSession.close()` to release resources held by the other session(s).\n",
            "  warnings.warn('An interactive session is already active. This can '\n"
          ],
          "name": "stderr"
        }
      ]
    }
  ]
}